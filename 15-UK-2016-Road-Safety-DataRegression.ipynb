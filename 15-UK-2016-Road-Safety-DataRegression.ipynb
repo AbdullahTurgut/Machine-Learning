{
 "cells": [
  {
   "cell_type": "code",
   "execution_count": 1,
   "id": "61e1a0df-97c0-4d9e-8d73-5daa6b4eb97b",
   "metadata": {},
   "outputs": [],
   "source": [
    "import numpy as np\n",
    "import pandas as pd\n",
    "import seaborn as sns\n",
    "import matplotlib.pyplot as plt\n",
    "%matplotlib inline"
   ]
  },
  {
   "cell_type": "code",
   "execution_count": 2,
   "id": "e3845c76-551b-4506-9416-da8e7c5af178",
   "metadata": {},
   "outputs": [],
   "source": [
    "df = pd.read_csv('Cas.csv')"
   ]
  },
  {
   "cell_type": "code",
   "execution_count": 3,
   "id": "a37fbc72-0600-4cc6-a663-40daf0588637",
   "metadata": {},
   "outputs": [
    {
     "data": {
      "text/html": [
       "<div>\n",
       "<style scoped>\n",
       "    .dataframe tbody tr th:only-of-type {\n",
       "        vertical-align: middle;\n",
       "    }\n",
       "\n",
       "    .dataframe tbody tr th {\n",
       "        vertical-align: top;\n",
       "    }\n",
       "\n",
       "    .dataframe thead th {\n",
       "        text-align: right;\n",
       "    }\n",
       "</style>\n",
       "<table border=\"1\" class=\"dataframe\">\n",
       "  <thead>\n",
       "    <tr style=\"text-align: right;\">\n",
       "      <th></th>\n",
       "      <th>Accident_Index</th>\n",
       "      <th>Vehicle_Reference</th>\n",
       "      <th>Casualty_Reference</th>\n",
       "      <th>Casualty_Class</th>\n",
       "      <th>Sex_of_Casualty</th>\n",
       "      <th>Age_of_Casualty</th>\n",
       "      <th>Age_Band_of_Casualty</th>\n",
       "      <th>Casualty_Severity</th>\n",
       "      <th>Pedestrian_Location</th>\n",
       "      <th>Pedestrian_Movement</th>\n",
       "      <th>Car_Passenger</th>\n",
       "      <th>Bus_or_Coach_Passenger</th>\n",
       "      <th>Pedestrian_Road_Maintenance_Worker</th>\n",
       "      <th>Casualty_Type</th>\n",
       "      <th>Casualty_Home_Area_Type</th>\n",
       "      <th>Casualty_IMD_Decile</th>\n",
       "    </tr>\n",
       "  </thead>\n",
       "  <tbody>\n",
       "    <tr>\n",
       "      <th>0</th>\n",
       "      <td>2016010000005</td>\n",
       "      <td>2</td>\n",
       "      <td>1</td>\n",
       "      <td>1</td>\n",
       "      <td>1</td>\n",
       "      <td>23</td>\n",
       "      <td>5</td>\n",
       "      <td>3</td>\n",
       "      <td>0</td>\n",
       "      <td>0</td>\n",
       "      <td>0</td>\n",
       "      <td>0</td>\n",
       "      <td>0</td>\n",
       "      <td>2</td>\n",
       "      <td>1</td>\n",
       "      <td>4</td>\n",
       "    </tr>\n",
       "    <tr>\n",
       "      <th>1</th>\n",
       "      <td>2016010000006</td>\n",
       "      <td>1</td>\n",
       "      <td>1</td>\n",
       "      <td>1</td>\n",
       "      <td>2</td>\n",
       "      <td>36</td>\n",
       "      <td>7</td>\n",
       "      <td>3</td>\n",
       "      <td>0</td>\n",
       "      <td>0</td>\n",
       "      <td>0</td>\n",
       "      <td>0</td>\n",
       "      <td>0</td>\n",
       "      <td>9</td>\n",
       "      <td>1</td>\n",
       "      <td>10</td>\n",
       "    </tr>\n",
       "    <tr>\n",
       "      <th>2</th>\n",
       "      <td>2016010000008</td>\n",
       "      <td>1</td>\n",
       "      <td>1</td>\n",
       "      <td>1</td>\n",
       "      <td>1</td>\n",
       "      <td>24</td>\n",
       "      <td>5</td>\n",
       "      <td>3</td>\n",
       "      <td>0</td>\n",
       "      <td>0</td>\n",
       "      <td>0</td>\n",
       "      <td>0</td>\n",
       "      <td>0</td>\n",
       "      <td>9</td>\n",
       "      <td>1</td>\n",
       "      <td>8</td>\n",
       "    </tr>\n",
       "    <tr>\n",
       "      <th>3</th>\n",
       "      <td>2016010000016</td>\n",
       "      <td>1</td>\n",
       "      <td>1</td>\n",
       "      <td>2</td>\n",
       "      <td>2</td>\n",
       "      <td>59</td>\n",
       "      <td>9</td>\n",
       "      <td>3</td>\n",
       "      <td>0</td>\n",
       "      <td>0</td>\n",
       "      <td>0</td>\n",
       "      <td>3</td>\n",
       "      <td>0</td>\n",
       "      <td>11</td>\n",
       "      <td>1</td>\n",
       "      <td>4</td>\n",
       "    </tr>\n",
       "    <tr>\n",
       "      <th>4</th>\n",
       "      <td>2016010000018</td>\n",
       "      <td>2</td>\n",
       "      <td>1</td>\n",
       "      <td>1</td>\n",
       "      <td>1</td>\n",
       "      <td>28</td>\n",
       "      <td>6</td>\n",
       "      <td>3</td>\n",
       "      <td>0</td>\n",
       "      <td>0</td>\n",
       "      <td>0</td>\n",
       "      <td>0</td>\n",
       "      <td>0</td>\n",
       "      <td>1</td>\n",
       "      <td>1</td>\n",
       "      <td>6</td>\n",
       "    </tr>\n",
       "  </tbody>\n",
       "</table>\n",
       "</div>"
      ],
      "text/plain": [
       "  Accident_Index  Vehicle_Reference  Casualty_Reference  Casualty_Class  \\\n",
       "0  2016010000005                  2                   1               1   \n",
       "1  2016010000006                  1                   1               1   \n",
       "2  2016010000008                  1                   1               1   \n",
       "3  2016010000016                  1                   1               2   \n",
       "4  2016010000018                  2                   1               1   \n",
       "\n",
       "   Sex_of_Casualty  Age_of_Casualty  Age_Band_of_Casualty  Casualty_Severity  \\\n",
       "0                1               23                     5                  3   \n",
       "1                2               36                     7                  3   \n",
       "2                1               24                     5                  3   \n",
       "3                2               59                     9                  3   \n",
       "4                1               28                     6                  3   \n",
       "\n",
       "   Pedestrian_Location  Pedestrian_Movement  Car_Passenger  \\\n",
       "0                    0                    0              0   \n",
       "1                    0                    0              0   \n",
       "2                    0                    0              0   \n",
       "3                    0                    0              0   \n",
       "4                    0                    0              0   \n",
       "\n",
       "   Bus_or_Coach_Passenger  Pedestrian_Road_Maintenance_Worker  Casualty_Type  \\\n",
       "0                       0                                   0              2   \n",
       "1                       0                                   0              9   \n",
       "2                       0                                   0              9   \n",
       "3                       3                                   0             11   \n",
       "4                       0                                   0              1   \n",
       "\n",
       "   Casualty_Home_Area_Type  Casualty_IMD_Decile  \n",
       "0                        1                    4  \n",
       "1                        1                   10  \n",
       "2                        1                    8  \n",
       "3                        1                    4  \n",
       "4                        1                    6  "
      ]
     },
     "execution_count": 3,
     "metadata": {},
     "output_type": "execute_result"
    }
   ],
   "source": [
    "df.head()"
   ]
  },
  {
   "cell_type": "code",
   "execution_count": 4,
   "id": "c8369d84-f571-4999-93ab-f90992d39ff6",
   "metadata": {},
   "outputs": [
    {
     "data": {
      "text/html": [
       "<div>\n",
       "<style scoped>\n",
       "    .dataframe tbody tr th:only-of-type {\n",
       "        vertical-align: middle;\n",
       "    }\n",
       "\n",
       "    .dataframe tbody tr th {\n",
       "        vertical-align: top;\n",
       "    }\n",
       "\n",
       "    .dataframe thead th {\n",
       "        text-align: right;\n",
       "    }\n",
       "</style>\n",
       "<table border=\"1\" class=\"dataframe\">\n",
       "  <thead>\n",
       "    <tr style=\"text-align: right;\">\n",
       "      <th></th>\n",
       "      <th>Accident_Index</th>\n",
       "      <th>Vehicle_Reference</th>\n",
       "      <th>Casualty_Reference</th>\n",
       "      <th>Casualty_Class</th>\n",
       "      <th>Sex_of_Casualty</th>\n",
       "      <th>Age_of_Casualty</th>\n",
       "      <th>Age_Band_of_Casualty</th>\n",
       "      <th>Casualty_Severity</th>\n",
       "      <th>Pedestrian_Location</th>\n",
       "      <th>Pedestrian_Movement</th>\n",
       "      <th>Car_Passenger</th>\n",
       "      <th>Bus_or_Coach_Passenger</th>\n",
       "      <th>Pedestrian_Road_Maintenance_Worker</th>\n",
       "      <th>Casualty_Type</th>\n",
       "      <th>Casualty_Home_Area_Type</th>\n",
       "      <th>Casualty_IMD_Decile</th>\n",
       "    </tr>\n",
       "  </thead>\n",
       "  <tbody>\n",
       "    <tr>\n",
       "      <th>181379</th>\n",
       "      <td>2016984131316</td>\n",
       "      <td>1</td>\n",
       "      <td>1</td>\n",
       "      <td>1</td>\n",
       "      <td>1</td>\n",
       "      <td>17</td>\n",
       "      <td>4</td>\n",
       "      <td>3</td>\n",
       "      <td>0</td>\n",
       "      <td>0</td>\n",
       "      <td>0</td>\n",
       "      <td>0</td>\n",
       "      <td>0</td>\n",
       "      <td>9</td>\n",
       "      <td>1</td>\n",
       "      <td>6</td>\n",
       "    </tr>\n",
       "    <tr>\n",
       "      <th>181380</th>\n",
       "      <td>2016984131316</td>\n",
       "      <td>1</td>\n",
       "      <td>2</td>\n",
       "      <td>2</td>\n",
       "      <td>1</td>\n",
       "      <td>17</td>\n",
       "      <td>4</td>\n",
       "      <td>3</td>\n",
       "      <td>0</td>\n",
       "      <td>0</td>\n",
       "      <td>1</td>\n",
       "      <td>0</td>\n",
       "      <td>0</td>\n",
       "      <td>9</td>\n",
       "      <td>-1</td>\n",
       "      <td>-1</td>\n",
       "    </tr>\n",
       "    <tr>\n",
       "      <th>181381</th>\n",
       "      <td>2016984131316</td>\n",
       "      <td>1</td>\n",
       "      <td>3</td>\n",
       "      <td>2</td>\n",
       "      <td>1</td>\n",
       "      <td>21</td>\n",
       "      <td>5</td>\n",
       "      <td>3</td>\n",
       "      <td>0</td>\n",
       "      <td>0</td>\n",
       "      <td>2</td>\n",
       "      <td>0</td>\n",
       "      <td>0</td>\n",
       "      <td>9</td>\n",
       "      <td>1</td>\n",
       "      <td>1</td>\n",
       "    </tr>\n",
       "    <tr>\n",
       "      <th>181382</th>\n",
       "      <td>2016984133416</td>\n",
       "      <td>1</td>\n",
       "      <td>1</td>\n",
       "      <td>1</td>\n",
       "      <td>1</td>\n",
       "      <td>48</td>\n",
       "      <td>8</td>\n",
       "      <td>3</td>\n",
       "      <td>0</td>\n",
       "      <td>0</td>\n",
       "      <td>0</td>\n",
       "      <td>0</td>\n",
       "      <td>0</td>\n",
       "      <td>9</td>\n",
       "      <td>1</td>\n",
       "      <td>-1</td>\n",
       "    </tr>\n",
       "    <tr>\n",
       "      <th>181383</th>\n",
       "      <td>2016984133416</td>\n",
       "      <td>1</td>\n",
       "      <td>2</td>\n",
       "      <td>2</td>\n",
       "      <td>2</td>\n",
       "      <td>48</td>\n",
       "      <td>8</td>\n",
       "      <td>3</td>\n",
       "      <td>0</td>\n",
       "      <td>0</td>\n",
       "      <td>1</td>\n",
       "      <td>0</td>\n",
       "      <td>0</td>\n",
       "      <td>9</td>\n",
       "      <td>1</td>\n",
       "      <td>-1</td>\n",
       "    </tr>\n",
       "  </tbody>\n",
       "</table>\n",
       "</div>"
      ],
      "text/plain": [
       "       Accident_Index  Vehicle_Reference  Casualty_Reference  Casualty_Class  \\\n",
       "181379  2016984131316                  1                   1               1   \n",
       "181380  2016984131316                  1                   2               2   \n",
       "181381  2016984131316                  1                   3               2   \n",
       "181382  2016984133416                  1                   1               1   \n",
       "181383  2016984133416                  1                   2               2   \n",
       "\n",
       "        Sex_of_Casualty  Age_of_Casualty  Age_Band_of_Casualty  \\\n",
       "181379                1               17                     4   \n",
       "181380                1               17                     4   \n",
       "181381                1               21                     5   \n",
       "181382                1               48                     8   \n",
       "181383                2               48                     8   \n",
       "\n",
       "        Casualty_Severity  Pedestrian_Location  Pedestrian_Movement  \\\n",
       "181379                  3                    0                    0   \n",
       "181380                  3                    0                    0   \n",
       "181381                  3                    0                    0   \n",
       "181382                  3                    0                    0   \n",
       "181383                  3                    0                    0   \n",
       "\n",
       "        Car_Passenger  Bus_or_Coach_Passenger  \\\n",
       "181379              0                       0   \n",
       "181380              1                       0   \n",
       "181381              2                       0   \n",
       "181382              0                       0   \n",
       "181383              1                       0   \n",
       "\n",
       "        Pedestrian_Road_Maintenance_Worker  Casualty_Type  \\\n",
       "181379                                   0              9   \n",
       "181380                                   0              9   \n",
       "181381                                   0              9   \n",
       "181382                                   0              9   \n",
       "181383                                   0              9   \n",
       "\n",
       "        Casualty_Home_Area_Type  Casualty_IMD_Decile  \n",
       "181379                        1                    6  \n",
       "181380                       -1                   -1  \n",
       "181381                        1                    1  \n",
       "181382                        1                   -1  \n",
       "181383                        1                   -1  "
      ]
     },
     "execution_count": 4,
     "metadata": {},
     "output_type": "execute_result"
    }
   ],
   "source": [
    "df.tail()"
   ]
  },
  {
   "cell_type": "code",
   "execution_count": 5,
   "id": "a2c2a224-f86c-414f-a078-2ab1628014bc",
   "metadata": {},
   "outputs": [
    {
     "data": {
      "text/plain": [
       "Accident_Index                        0\n",
       "Vehicle_Reference                     0\n",
       "Casualty_Reference                    0\n",
       "Casualty_Class                        0\n",
       "Sex_of_Casualty                       0\n",
       "Age_of_Casualty                       0\n",
       "Age_Band_of_Casualty                  0\n",
       "Casualty_Severity                     0\n",
       "Pedestrian_Location                   0\n",
       "Pedestrian_Movement                   0\n",
       "Car_Passenger                         0\n",
       "Bus_or_Coach_Passenger                0\n",
       "Pedestrian_Road_Maintenance_Worker    0\n",
       "Casualty_Type                         0\n",
       "Casualty_Home_Area_Type               0\n",
       "Casualty_IMD_Decile                   0\n",
       "dtype: int64"
      ]
     },
     "execution_count": 5,
     "metadata": {},
     "output_type": "execute_result"
    }
   ],
   "source": [
    "df.isnull().sum()"
   ]
  },
  {
   "cell_type": "code",
   "execution_count": 6,
   "id": "c0b8a324-7ff3-4d8b-8fe8-e76550719c19",
   "metadata": {},
   "outputs": [
    {
     "data": {
      "text/html": [
       "<div>\n",
       "<style scoped>\n",
       "    .dataframe tbody tr th:only-of-type {\n",
       "        vertical-align: middle;\n",
       "    }\n",
       "\n",
       "    .dataframe tbody tr th {\n",
       "        vertical-align: top;\n",
       "    }\n",
       "\n",
       "    .dataframe thead th {\n",
       "        text-align: right;\n",
       "    }\n",
       "</style>\n",
       "<table border=\"1\" class=\"dataframe\">\n",
       "  <thead>\n",
       "    <tr style=\"text-align: right;\">\n",
       "      <th></th>\n",
       "      <th>Vehicle_Reference</th>\n",
       "      <th>Casualty_Reference</th>\n",
       "      <th>Casualty_Class</th>\n",
       "      <th>Sex_of_Casualty</th>\n",
       "      <th>Age_of_Casualty</th>\n",
       "      <th>Age_Band_of_Casualty</th>\n",
       "      <th>Casualty_Severity</th>\n",
       "      <th>Pedestrian_Location</th>\n",
       "      <th>Pedestrian_Movement</th>\n",
       "      <th>Car_Passenger</th>\n",
       "      <th>Bus_or_Coach_Passenger</th>\n",
       "      <th>Pedestrian_Road_Maintenance_Worker</th>\n",
       "      <th>Casualty_Type</th>\n",
       "      <th>Casualty_Home_Area_Type</th>\n",
       "      <th>Casualty_IMD_Decile</th>\n",
       "    </tr>\n",
       "  </thead>\n",
       "  <tbody>\n",
       "    <tr>\n",
       "      <th>count</th>\n",
       "      <td>181384.000000</td>\n",
       "      <td>181384.000000</td>\n",
       "      <td>181384.000000</td>\n",
       "      <td>181384.000000</td>\n",
       "      <td>181384.000000</td>\n",
       "      <td>181384.000000</td>\n",
       "      <td>181384.000000</td>\n",
       "      <td>181384.000000</td>\n",
       "      <td>181384.000000</td>\n",
       "      <td>181384.000000</td>\n",
       "      <td>181384.000000</td>\n",
       "      <td>181384.000000</td>\n",
       "      <td>181384.000000</td>\n",
       "      <td>181384.000000</td>\n",
       "      <td>181384.000000</td>\n",
       "    </tr>\n",
       "    <tr>\n",
       "      <th>mean</th>\n",
       "      <td>1.490628</td>\n",
       "      <td>1.414386</td>\n",
       "      <td>1.482523</td>\n",
       "      <td>1.406166</td>\n",
       "      <td>36.333139</td>\n",
       "      <td>6.273497</td>\n",
       "      <td>2.847368</td>\n",
       "      <td>0.681119</td>\n",
       "      <td>0.500926</td>\n",
       "      <td>0.254692</td>\n",
       "      <td>0.075238</td>\n",
       "      <td>0.069742</td>\n",
       "      <td>7.317691</td>\n",
       "      <td>1.033421</td>\n",
       "      <td>3.808500</td>\n",
       "    </tr>\n",
       "    <tr>\n",
       "      <th>std</th>\n",
       "      <td>0.614679</td>\n",
       "      <td>1.109137</td>\n",
       "      <td>0.713700</td>\n",
       "      <td>0.492866</td>\n",
       "      <td>19.259664</td>\n",
       "      <td>2.393541</td>\n",
       "      <td>0.386129</td>\n",
       "      <td>1.980707</td>\n",
       "      <td>1.715919</td>\n",
       "      <td>0.577913</td>\n",
       "      <td>0.521653</td>\n",
       "      <td>0.369720</td>\n",
       "      <td>7.822052</td>\n",
       "      <td>0.969762</td>\n",
       "      <td>3.503965</td>\n",
       "    </tr>\n",
       "    <tr>\n",
       "      <th>min</th>\n",
       "      <td>1.000000</td>\n",
       "      <td>1.000000</td>\n",
       "      <td>1.000000</td>\n",
       "      <td>-1.000000</td>\n",
       "      <td>-1.000000</td>\n",
       "      <td>-1.000000</td>\n",
       "      <td>1.000000</td>\n",
       "      <td>-1.000000</td>\n",
       "      <td>-1.000000</td>\n",
       "      <td>-1.000000</td>\n",
       "      <td>-1.000000</td>\n",
       "      <td>-1.000000</td>\n",
       "      <td>0.000000</td>\n",
       "      <td>-1.000000</td>\n",
       "      <td>-1.000000</td>\n",
       "    </tr>\n",
       "    <tr>\n",
       "      <th>25%</th>\n",
       "      <td>1.000000</td>\n",
       "      <td>1.000000</td>\n",
       "      <td>1.000000</td>\n",
       "      <td>1.000000</td>\n",
       "      <td>22.000000</td>\n",
       "      <td>5.000000</td>\n",
       "      <td>3.000000</td>\n",
       "      <td>0.000000</td>\n",
       "      <td>0.000000</td>\n",
       "      <td>0.000000</td>\n",
       "      <td>0.000000</td>\n",
       "      <td>0.000000</td>\n",
       "      <td>3.000000</td>\n",
       "      <td>1.000000</td>\n",
       "      <td>1.000000</td>\n",
       "    </tr>\n",
       "    <tr>\n",
       "      <th>50%</th>\n",
       "      <td>1.000000</td>\n",
       "      <td>1.000000</td>\n",
       "      <td>1.000000</td>\n",
       "      <td>1.000000</td>\n",
       "      <td>33.000000</td>\n",
       "      <td>6.000000</td>\n",
       "      <td>3.000000</td>\n",
       "      <td>0.000000</td>\n",
       "      <td>0.000000</td>\n",
       "      <td>0.000000</td>\n",
       "      <td>0.000000</td>\n",
       "      <td>0.000000</td>\n",
       "      <td>9.000000</td>\n",
       "      <td>1.000000</td>\n",
       "      <td>4.000000</td>\n",
       "    </tr>\n",
       "    <tr>\n",
       "      <th>75%</th>\n",
       "      <td>2.000000</td>\n",
       "      <td>2.000000</td>\n",
       "      <td>2.000000</td>\n",
       "      <td>2.000000</td>\n",
       "      <td>49.000000</td>\n",
       "      <td>8.000000</td>\n",
       "      <td>3.000000</td>\n",
       "      <td>0.000000</td>\n",
       "      <td>0.000000</td>\n",
       "      <td>0.000000</td>\n",
       "      <td>0.000000</td>\n",
       "      <td>0.000000</td>\n",
       "      <td>9.000000</td>\n",
       "      <td>1.000000</td>\n",
       "      <td>7.000000</td>\n",
       "    </tr>\n",
       "    <tr>\n",
       "      <th>max</th>\n",
       "      <td>21.000000</td>\n",
       "      <td>58.000000</td>\n",
       "      <td>3.000000</td>\n",
       "      <td>2.000000</td>\n",
       "      <td>101.000000</td>\n",
       "      <td>11.000000</td>\n",
       "      <td>3.000000</td>\n",
       "      <td>10.000000</td>\n",
       "      <td>9.000000</td>\n",
       "      <td>2.000000</td>\n",
       "      <td>4.000000</td>\n",
       "      <td>2.000000</td>\n",
       "      <td>98.000000</td>\n",
       "      <td>3.000000</td>\n",
       "      <td>10.000000</td>\n",
       "    </tr>\n",
       "  </tbody>\n",
       "</table>\n",
       "</div>"
      ],
      "text/plain": [
       "       Vehicle_Reference  Casualty_Reference  Casualty_Class  Sex_of_Casualty  \\\n",
       "count      181384.000000       181384.000000   181384.000000    181384.000000   \n",
       "mean            1.490628            1.414386        1.482523         1.406166   \n",
       "std             0.614679            1.109137        0.713700         0.492866   \n",
       "min             1.000000            1.000000        1.000000        -1.000000   \n",
       "25%             1.000000            1.000000        1.000000         1.000000   \n",
       "50%             1.000000            1.000000        1.000000         1.000000   \n",
       "75%             2.000000            2.000000        2.000000         2.000000   \n",
       "max            21.000000           58.000000        3.000000         2.000000   \n",
       "\n",
       "       Age_of_Casualty  Age_Band_of_Casualty  Casualty_Severity  \\\n",
       "count    181384.000000         181384.000000      181384.000000   \n",
       "mean         36.333139              6.273497           2.847368   \n",
       "std          19.259664              2.393541           0.386129   \n",
       "min          -1.000000             -1.000000           1.000000   \n",
       "25%          22.000000              5.000000           3.000000   \n",
       "50%          33.000000              6.000000           3.000000   \n",
       "75%          49.000000              8.000000           3.000000   \n",
       "max         101.000000             11.000000           3.000000   \n",
       "\n",
       "       Pedestrian_Location  Pedestrian_Movement  Car_Passenger  \\\n",
       "count        181384.000000        181384.000000  181384.000000   \n",
       "mean              0.681119             0.500926       0.254692   \n",
       "std               1.980707             1.715919       0.577913   \n",
       "min              -1.000000            -1.000000      -1.000000   \n",
       "25%               0.000000             0.000000       0.000000   \n",
       "50%               0.000000             0.000000       0.000000   \n",
       "75%               0.000000             0.000000       0.000000   \n",
       "max              10.000000             9.000000       2.000000   \n",
       "\n",
       "       Bus_or_Coach_Passenger  Pedestrian_Road_Maintenance_Worker  \\\n",
       "count           181384.000000                       181384.000000   \n",
       "mean                 0.075238                            0.069742   \n",
       "std                  0.521653                            0.369720   \n",
       "min                 -1.000000                           -1.000000   \n",
       "25%                  0.000000                            0.000000   \n",
       "50%                  0.000000                            0.000000   \n",
       "75%                  0.000000                            0.000000   \n",
       "max                  4.000000                            2.000000   \n",
       "\n",
       "       Casualty_Type  Casualty_Home_Area_Type  Casualty_IMD_Decile  \n",
       "count  181384.000000            181384.000000        181384.000000  \n",
       "mean        7.317691                 1.033421             3.808500  \n",
       "std         7.822052                 0.969762             3.503965  \n",
       "min         0.000000                -1.000000            -1.000000  \n",
       "25%         3.000000                 1.000000             1.000000  \n",
       "50%         9.000000                 1.000000             4.000000  \n",
       "75%         9.000000                 1.000000             7.000000  \n",
       "max        98.000000                 3.000000            10.000000  "
      ]
     },
     "execution_count": 6,
     "metadata": {},
     "output_type": "execute_result"
    }
   ],
   "source": [
    "df.describe()"
   ]
  },
  {
   "cell_type": "code",
   "execution_count": 7,
   "id": "a68085ec-73d7-4ec8-add1-603f404bb03e",
   "metadata": {},
   "outputs": [
    {
     "name": "stdout",
     "output_type": "stream",
     "text": [
      "<class 'pandas.core.frame.DataFrame'>\n",
      "RangeIndex: 181384 entries, 0 to 181383\n",
      "Data columns (total 16 columns):\n",
      " #   Column                              Non-Null Count   Dtype \n",
      "---  ------                              --------------   ----- \n",
      " 0   Accident_Index                      181384 non-null  object\n",
      " 1   Vehicle_Reference                   181384 non-null  int64 \n",
      " 2   Casualty_Reference                  181384 non-null  int64 \n",
      " 3   Casualty_Class                      181384 non-null  int64 \n",
      " 4   Sex_of_Casualty                     181384 non-null  int64 \n",
      " 5   Age_of_Casualty                     181384 non-null  int64 \n",
      " 6   Age_Band_of_Casualty                181384 non-null  int64 \n",
      " 7   Casualty_Severity                   181384 non-null  int64 \n",
      " 8   Pedestrian_Location                 181384 non-null  int64 \n",
      " 9   Pedestrian_Movement                 181384 non-null  int64 \n",
      " 10  Car_Passenger                       181384 non-null  int64 \n",
      " 11  Bus_or_Coach_Passenger              181384 non-null  int64 \n",
      " 12  Pedestrian_Road_Maintenance_Worker  181384 non-null  int64 \n",
      " 13  Casualty_Type                       181384 non-null  int64 \n",
      " 14  Casualty_Home_Area_Type             181384 non-null  int64 \n",
      " 15  Casualty_IMD_Decile                 181384 non-null  int64 \n",
      "dtypes: int64(15), object(1)\n",
      "memory usage: 22.1+ MB\n"
     ]
    }
   ],
   "source": [
    "df.info()"
   ]
  },
  {
   "cell_type": "code",
   "execution_count": 8,
   "id": "4ddf955e-b328-40c0-9ad8-03a7fd169be3",
   "metadata": {},
   "outputs": [
    {
     "data": {
      "text/plain": [
       "array([3, 2, 1])"
      ]
     },
     "execution_count": 8,
     "metadata": {},
     "output_type": "execute_result"
    }
   ],
   "source": [
    "df['Casualty_Severity'].unique()"
   ]
  },
  {
   "cell_type": "code",
   "execution_count": 9,
   "id": "bc149859-7e73-46ff-8a6b-32a40dbfe37b",
   "metadata": {},
   "outputs": [
    {
     "data": {
      "text/plain": [
       "(181384, 16)"
      ]
     },
     "execution_count": 9,
     "metadata": {},
     "output_type": "execute_result"
    }
   ],
   "source": [
    "df.shape"
   ]
  },
  {
   "cell_type": "code",
   "execution_count": 10,
   "id": "2870b825-d104-4df2-afd1-4998f440c6dc",
   "metadata": {},
   "outputs": [],
   "source": [
    "df.drop('Accident_Index',axis=1,inplace=True)"
   ]
  },
  {
   "cell_type": "code",
   "execution_count": 11,
   "id": "a42887ab-b57b-4b97-8e0f-135ae8cb8647",
   "metadata": {},
   "outputs": [
    {
     "name": "stdout",
     "output_type": "stream",
     "text": [
      "<class 'pandas.core.frame.DataFrame'>\n",
      "RangeIndex: 181384 entries, 0 to 181383\n",
      "Data columns (total 15 columns):\n",
      " #   Column                              Non-Null Count   Dtype\n",
      "---  ------                              --------------   -----\n",
      " 0   Vehicle_Reference                   181384 non-null  int64\n",
      " 1   Casualty_Reference                  181384 non-null  int64\n",
      " 2   Casualty_Class                      181384 non-null  int64\n",
      " 3   Sex_of_Casualty                     181384 non-null  int64\n",
      " 4   Age_of_Casualty                     181384 non-null  int64\n",
      " 5   Age_Band_of_Casualty                181384 non-null  int64\n",
      " 6   Casualty_Severity                   181384 non-null  int64\n",
      " 7   Pedestrian_Location                 181384 non-null  int64\n",
      " 8   Pedestrian_Movement                 181384 non-null  int64\n",
      " 9   Car_Passenger                       181384 non-null  int64\n",
      " 10  Bus_or_Coach_Passenger              181384 non-null  int64\n",
      " 11  Pedestrian_Road_Maintenance_Worker  181384 non-null  int64\n",
      " 12  Casualty_Type                       181384 non-null  int64\n",
      " 13  Casualty_Home_Area_Type             181384 non-null  int64\n",
      " 14  Casualty_IMD_Decile                 181384 non-null  int64\n",
      "dtypes: int64(15)\n",
      "memory usage: 20.8 MB\n"
     ]
    }
   ],
   "source": [
    "df.info()"
   ]
  },
  {
   "cell_type": "code",
   "execution_count": 12,
   "id": "6f3bb298-584f-4f9d-be8b-a7f04183164c",
   "metadata": {},
   "outputs": [
    {
     "data": {
      "text/html": [
       "<div>\n",
       "<style scoped>\n",
       "    .dataframe tbody tr th:only-of-type {\n",
       "        vertical-align: middle;\n",
       "    }\n",
       "\n",
       "    .dataframe tbody tr th {\n",
       "        vertical-align: top;\n",
       "    }\n",
       "\n",
       "    .dataframe thead th {\n",
       "        text-align: right;\n",
       "    }\n",
       "</style>\n",
       "<table border=\"1\" class=\"dataframe\">\n",
       "  <thead>\n",
       "    <tr style=\"text-align: right;\">\n",
       "      <th></th>\n",
       "      <th>Vehicle_Reference</th>\n",
       "      <th>Casualty_Reference</th>\n",
       "      <th>Casualty_Class</th>\n",
       "      <th>Sex_of_Casualty</th>\n",
       "      <th>Age_of_Casualty</th>\n",
       "      <th>Age_Band_of_Casualty</th>\n",
       "      <th>Casualty_Severity</th>\n",
       "      <th>Pedestrian_Location</th>\n",
       "      <th>Pedestrian_Movement</th>\n",
       "      <th>Car_Passenger</th>\n",
       "      <th>Bus_or_Coach_Passenger</th>\n",
       "      <th>Pedestrian_Road_Maintenance_Worker</th>\n",
       "      <th>Casualty_Type</th>\n",
       "      <th>Casualty_Home_Area_Type</th>\n",
       "      <th>Casualty_IMD_Decile</th>\n",
       "    </tr>\n",
       "  </thead>\n",
       "  <tbody>\n",
       "    <tr>\n",
       "      <th>count</th>\n",
       "      <td>181384.000000</td>\n",
       "      <td>181384.000000</td>\n",
       "      <td>181384.000000</td>\n",
       "      <td>181384.000000</td>\n",
       "      <td>181384.000000</td>\n",
       "      <td>181384.000000</td>\n",
       "      <td>181384.000000</td>\n",
       "      <td>181384.000000</td>\n",
       "      <td>181384.000000</td>\n",
       "      <td>181384.000000</td>\n",
       "      <td>181384.000000</td>\n",
       "      <td>181384.000000</td>\n",
       "      <td>181384.000000</td>\n",
       "      <td>181384.000000</td>\n",
       "      <td>181384.000000</td>\n",
       "    </tr>\n",
       "    <tr>\n",
       "      <th>mean</th>\n",
       "      <td>1.490628</td>\n",
       "      <td>1.414386</td>\n",
       "      <td>1.482523</td>\n",
       "      <td>1.406166</td>\n",
       "      <td>36.333139</td>\n",
       "      <td>6.273497</td>\n",
       "      <td>2.847368</td>\n",
       "      <td>0.681119</td>\n",
       "      <td>0.500926</td>\n",
       "      <td>0.254692</td>\n",
       "      <td>0.075238</td>\n",
       "      <td>0.069742</td>\n",
       "      <td>7.317691</td>\n",
       "      <td>1.033421</td>\n",
       "      <td>3.808500</td>\n",
       "    </tr>\n",
       "    <tr>\n",
       "      <th>std</th>\n",
       "      <td>0.614679</td>\n",
       "      <td>1.109137</td>\n",
       "      <td>0.713700</td>\n",
       "      <td>0.492866</td>\n",
       "      <td>19.259664</td>\n",
       "      <td>2.393541</td>\n",
       "      <td>0.386129</td>\n",
       "      <td>1.980707</td>\n",
       "      <td>1.715919</td>\n",
       "      <td>0.577913</td>\n",
       "      <td>0.521653</td>\n",
       "      <td>0.369720</td>\n",
       "      <td>7.822052</td>\n",
       "      <td>0.969762</td>\n",
       "      <td>3.503965</td>\n",
       "    </tr>\n",
       "    <tr>\n",
       "      <th>min</th>\n",
       "      <td>1.000000</td>\n",
       "      <td>1.000000</td>\n",
       "      <td>1.000000</td>\n",
       "      <td>-1.000000</td>\n",
       "      <td>-1.000000</td>\n",
       "      <td>-1.000000</td>\n",
       "      <td>1.000000</td>\n",
       "      <td>-1.000000</td>\n",
       "      <td>-1.000000</td>\n",
       "      <td>-1.000000</td>\n",
       "      <td>-1.000000</td>\n",
       "      <td>-1.000000</td>\n",
       "      <td>0.000000</td>\n",
       "      <td>-1.000000</td>\n",
       "      <td>-1.000000</td>\n",
       "    </tr>\n",
       "    <tr>\n",
       "      <th>25%</th>\n",
       "      <td>1.000000</td>\n",
       "      <td>1.000000</td>\n",
       "      <td>1.000000</td>\n",
       "      <td>1.000000</td>\n",
       "      <td>22.000000</td>\n",
       "      <td>5.000000</td>\n",
       "      <td>3.000000</td>\n",
       "      <td>0.000000</td>\n",
       "      <td>0.000000</td>\n",
       "      <td>0.000000</td>\n",
       "      <td>0.000000</td>\n",
       "      <td>0.000000</td>\n",
       "      <td>3.000000</td>\n",
       "      <td>1.000000</td>\n",
       "      <td>1.000000</td>\n",
       "    </tr>\n",
       "    <tr>\n",
       "      <th>50%</th>\n",
       "      <td>1.000000</td>\n",
       "      <td>1.000000</td>\n",
       "      <td>1.000000</td>\n",
       "      <td>1.000000</td>\n",
       "      <td>33.000000</td>\n",
       "      <td>6.000000</td>\n",
       "      <td>3.000000</td>\n",
       "      <td>0.000000</td>\n",
       "      <td>0.000000</td>\n",
       "      <td>0.000000</td>\n",
       "      <td>0.000000</td>\n",
       "      <td>0.000000</td>\n",
       "      <td>9.000000</td>\n",
       "      <td>1.000000</td>\n",
       "      <td>4.000000</td>\n",
       "    </tr>\n",
       "    <tr>\n",
       "      <th>75%</th>\n",
       "      <td>2.000000</td>\n",
       "      <td>2.000000</td>\n",
       "      <td>2.000000</td>\n",
       "      <td>2.000000</td>\n",
       "      <td>49.000000</td>\n",
       "      <td>8.000000</td>\n",
       "      <td>3.000000</td>\n",
       "      <td>0.000000</td>\n",
       "      <td>0.000000</td>\n",
       "      <td>0.000000</td>\n",
       "      <td>0.000000</td>\n",
       "      <td>0.000000</td>\n",
       "      <td>9.000000</td>\n",
       "      <td>1.000000</td>\n",
       "      <td>7.000000</td>\n",
       "    </tr>\n",
       "    <tr>\n",
       "      <th>max</th>\n",
       "      <td>21.000000</td>\n",
       "      <td>58.000000</td>\n",
       "      <td>3.000000</td>\n",
       "      <td>2.000000</td>\n",
       "      <td>101.000000</td>\n",
       "      <td>11.000000</td>\n",
       "      <td>3.000000</td>\n",
       "      <td>10.000000</td>\n",
       "      <td>9.000000</td>\n",
       "      <td>2.000000</td>\n",
       "      <td>4.000000</td>\n",
       "      <td>2.000000</td>\n",
       "      <td>98.000000</td>\n",
       "      <td>3.000000</td>\n",
       "      <td>10.000000</td>\n",
       "    </tr>\n",
       "  </tbody>\n",
       "</table>\n",
       "</div>"
      ],
      "text/plain": [
       "       Vehicle_Reference  Casualty_Reference  Casualty_Class  Sex_of_Casualty  \\\n",
       "count      181384.000000       181384.000000   181384.000000    181384.000000   \n",
       "mean            1.490628            1.414386        1.482523         1.406166   \n",
       "std             0.614679            1.109137        0.713700         0.492866   \n",
       "min             1.000000            1.000000        1.000000        -1.000000   \n",
       "25%             1.000000            1.000000        1.000000         1.000000   \n",
       "50%             1.000000            1.000000        1.000000         1.000000   \n",
       "75%             2.000000            2.000000        2.000000         2.000000   \n",
       "max            21.000000           58.000000        3.000000         2.000000   \n",
       "\n",
       "       Age_of_Casualty  Age_Band_of_Casualty  Casualty_Severity  \\\n",
       "count    181384.000000         181384.000000      181384.000000   \n",
       "mean         36.333139              6.273497           2.847368   \n",
       "std          19.259664              2.393541           0.386129   \n",
       "min          -1.000000             -1.000000           1.000000   \n",
       "25%          22.000000              5.000000           3.000000   \n",
       "50%          33.000000              6.000000           3.000000   \n",
       "75%          49.000000              8.000000           3.000000   \n",
       "max         101.000000             11.000000           3.000000   \n",
       "\n",
       "       Pedestrian_Location  Pedestrian_Movement  Car_Passenger  \\\n",
       "count        181384.000000        181384.000000  181384.000000   \n",
       "mean              0.681119             0.500926       0.254692   \n",
       "std               1.980707             1.715919       0.577913   \n",
       "min              -1.000000            -1.000000      -1.000000   \n",
       "25%               0.000000             0.000000       0.000000   \n",
       "50%               0.000000             0.000000       0.000000   \n",
       "75%               0.000000             0.000000       0.000000   \n",
       "max              10.000000             9.000000       2.000000   \n",
       "\n",
       "       Bus_or_Coach_Passenger  Pedestrian_Road_Maintenance_Worker  \\\n",
       "count           181384.000000                       181384.000000   \n",
       "mean                 0.075238                            0.069742   \n",
       "std                  0.521653                            0.369720   \n",
       "min                 -1.000000                           -1.000000   \n",
       "25%                  0.000000                            0.000000   \n",
       "50%                  0.000000                            0.000000   \n",
       "75%                  0.000000                            0.000000   \n",
       "max                  4.000000                            2.000000   \n",
       "\n",
       "       Casualty_Type  Casualty_Home_Area_Type  Casualty_IMD_Decile  \n",
       "count  181384.000000            181384.000000        181384.000000  \n",
       "mean        7.317691                 1.033421             3.808500  \n",
       "std         7.822052                 0.969762             3.503965  \n",
       "min         0.000000                -1.000000            -1.000000  \n",
       "25%         3.000000                 1.000000             1.000000  \n",
       "50%         9.000000                 1.000000             4.000000  \n",
       "75%         9.000000                 1.000000             7.000000  \n",
       "max        98.000000                 3.000000            10.000000  "
      ]
     },
     "execution_count": 12,
     "metadata": {},
     "output_type": "execute_result"
    }
   ],
   "source": [
    "df.describe()"
   ]
  },
  {
   "cell_type": "code",
   "execution_count": 13,
   "id": "8a2e78a0-b1e6-4a69-8963-2753f243f161",
   "metadata": {},
   "outputs": [],
   "source": [
    "from sklearn.model_selection import train_test_split"
   ]
  },
  {
   "cell_type": "code",
   "execution_count": 14,
   "id": "330be18d-87ff-4c5a-87f8-cb8ae6d74cb8",
   "metadata": {},
   "outputs": [],
   "source": [
    "X = df.drop('Casualty_Severity',axis=1)\n",
    "y = df['Casualty_Severity']\n",
    "X_train, X_test, y_train, y_test = train_test_split(X,y, test_size=0.2, random_state=42)"
   ]
  },
  {
   "cell_type": "code",
   "execution_count": 15,
   "id": "71247509-74be-4228-932a-7f569cdb18fa",
   "metadata": {},
   "outputs": [],
   "source": [
    "# Standart Scaler\n",
    "from sklearn.preprocessing import StandardScaler"
   ]
  },
  {
   "cell_type": "code",
   "execution_count": 16,
   "id": "c4c0fdef-347a-4f21-b4a6-afca9fffe7e1",
   "metadata": {},
   "outputs": [],
   "source": [
    "scaler = StandardScaler()"
   ]
  },
  {
   "cell_type": "code",
   "execution_count": 17,
   "id": "f020d8aa-0d4e-4de8-bc5d-1254d54353f1",
   "metadata": {},
   "outputs": [],
   "source": [
    "scaler = StandardScaler()\n",
    "X_train_scaled = scaler.fit_transform(X_train)\n",
    "X_test_scaled = scaler.transform(X_test)"
   ]
  },
  {
   "cell_type": "code",
   "execution_count": 18,
   "id": "67e1e59e-fd1c-4143-98e7-66caa775e169",
   "metadata": {},
   "outputs": [
    {
     "data": {
      "text/plain": [
       "(145107, 14)"
      ]
     },
     "execution_count": 18,
     "metadata": {},
     "output_type": "execute_result"
    }
   ],
   "source": [
    "X_train_scaled.shape"
   ]
  },
  {
   "cell_type": "code",
   "execution_count": 19,
   "id": "d0c0a2bf-a117-4139-b4a2-23d6cf4d562d",
   "metadata": {},
   "outputs": [
    {
     "data": {
      "text/plain": [
       "array([[ 0.82363156, -0.37265134, -0.67564835, ...,  0.21435038,\n",
       "        -0.03275938, -0.22970831],\n",
       "       [ 0.82363156, -0.37265134, -0.67564835, ...,  0.21435038,\n",
       "         2.02954673,  1.48200966],\n",
       "       [ 0.82363156,  0.52705779, -0.67564835, ...,  0.21435038,\n",
       "         0.99839367,  1.48200966],\n",
       "       ...,\n",
       "       [-0.79673104, -0.37265134, -0.67564835, ...,  1.49060024,\n",
       "         2.02954673,  0.911437  ],\n",
       "       [ 0.82363156,  0.52705779, -0.67564835, ...,  0.21435038,\n",
       "        -0.03275938, -0.22970831],\n",
       "       [-0.79673104, -0.37265134,  2.1255318 , ..., -0.93427449,\n",
       "         2.02954673,  1.48200966]])"
      ]
     },
     "execution_count": 19,
     "metadata": {},
     "output_type": "execute_result"
    }
   ],
   "source": [
    "X_train_scaled"
   ]
  },
  {
   "cell_type": "code",
   "execution_count": 20,
   "id": "31081d79-ff1c-41ad-8727-fb5e3878a12c",
   "metadata": {},
   "outputs": [],
   "source": [
    "# Linear, Ridge, Lasso\n",
    "from sklearn.linear_model import LinearRegression, Ridge, Lasso\n",
    "from sklearn.metrics import mean_absolute_error, mean_squared_error, r2_score\n",
    "linear = LinearRegression()"
   ]
  },
  {
   "cell_type": "code",
   "execution_count": 21,
   "id": "7b2d9c61-8771-4bfa-8f71-7b94606f1891",
   "metadata": {},
   "outputs": [
    {
     "name": "stdout",
     "output_type": "stream",
     "text": [
      "Mean absolute error:  0.2516783133581662\n",
      "Mean squared error:  0.14118372823491201\n",
      "r2 score:  0.03608017460761259\n"
     ]
    },
    {
     "data": {
      "image/png": "[encoded data removed]",
      "text/plain": [
       "<Figure size 640x480 with 1 Axes>"
      ]
     },
     "metadata": {},
     "output_type": "display_data"
    }
   ],
   "source": [
    "linear.fit(X_train_scaled,y_train)\n",
    "y_pred = linear.predict(X_test_scaled)\n",
    "mae = mean_absolute_error(y_test,y_pred)\n",
    "mse = mean_squared_error(y_test,y_pred)\n",
    "score = r2_score(y_test,y_pred)\n",
    "print(\"Mean absolute error: \", mae)\n",
    "print(\"Mean squared error: \", mse)\n",
    "print(\"r2 score: \", score)\n",
    "plt.scatter(y_test,y_pred)\n",
    "plt.show()"
   ]
  },
  {
   "cell_type": "code",
   "execution_count": 22,
   "id": "b58da715-a2b2-4095-ba39-bbe1a119ef29",
   "metadata": {},
   "outputs": [
    {
     "name": "stdout",
     "output_type": "stream",
     "text": [
      "Mean absolute error:  0.2516783919332237\n",
      "Mean squared error:  0.1411837300039143\n",
      "r2 score:  0.03608016252990076\n"
     ]
    },
    {
     "data": {
      "image/png": "[encoded data removed]",
      "text/plain": [
       "<Figure size 640x480 with 1 Axes>"
      ]
     },
     "metadata": {},
     "output_type": "display_data"
    }
   ],
   "source": [
    "ridge = Ridge()\n",
    "ridge.fit(X_train_scaled,y_train)\n",
    "y_pred2 = ridge.predict(X_test_scaled)\n",
    "mae = mean_absolute_error(y_test,y_pred2)\n",
    "mse = mean_squared_error(y_test,y_pred2)\n",
    "score = r2_score(y_test,y_pred2)\n",
    "print(\"Mean absolute error: \", mae)\n",
    "print(\"Mean squared error: \", mse)\n",
    "print(\"r2 score: \", score)\n",
    "plt.scatter(y_test,y_pred2)\n",
    "plt.show()"
   ]
  },
  {
   "cell_type": "code",
   "execution_count": 23,
   "id": "cac092fa-40b8-45ec-b837-1e447fee69be",
   "metadata": {},
   "outputs": [
    {
     "name": "stdout",
     "output_type": "stream",
     "text": [
      "Mean absolute error:  0.26014849390850925\n",
      "Mean squared error:  0.1464804501136502\n",
      "r2 score:  -8.27408525194695e-05\n"
     ]
    },
    {
     "data": {
      "image/png": "[encoded data removed]",
      "text/plain": [
       "<Figure size 640x480 with 1 Axes>"
      ]
     },
     "metadata": {},
     "output_type": "display_data"
    }
   ],
   "source": [
    "lasso = Lasso()\n",
    "lasso.fit(X_train_scaled,y_train)\n",
    "y_pred3 = lasso.predict(X_test_scaled)\n",
    "mae = mean_absolute_error(y_test,y_pred3)\n",
    "mse = mean_squared_error(y_test,y_pred3)\n",
    "score = r2_score(y_test,y_pred3)\n",
    "print(\"Mean absolute error: \", mae)\n",
    "print(\"Mean squared error: \", mse)\n",
    "print(\"r2 score: \", score)\n",
    "plt.scatter(y_test,y_pred3)\n",
    "plt.show()"
   ]
  },
  {
   "cell_type": "code",
   "execution_count": 24,
   "id": "fe2aba08-7683-495a-a3fc-16712538bb0a",
   "metadata": {},
   "outputs": [],
   "source": [
    "#SVR\n",
    "from sklearn.svm import SVR"
   ]
  },
  {
   "cell_type": "code",
   "execution_count": 25,
   "id": "be42354a-54c7-425c-9711-4da04e9e16f9",
   "metadata": {},
   "outputs": [
    {
     "name": "stdout",
     "output_type": "stream",
     "text": [
      "Mean absolute error:  0.22157093998368474\n",
      "Mean squared error:  0.14878014378940824\n",
      "r2 score:  -0.01578370267089757\n"
     ]
    }
   ],
   "source": [
    "svr = SVR()\n",
    "svr.fit(X_train_scaled,y_train)\n",
    "y_pred4 = svr.predict(X_test_scaled)\n",
    "mae = mean_absolute_error(y_test,y_pred4)\n",
    "mse = mean_squared_error(y_test,y_pred4)\n",
    "score = r2_score(y_test,y_pred4)\n",
    "print(\"Mean absolute error: \", mae)\n",
    "print(\"Mean squared error: \", mse)\n",
    "print(\"r2 score: \", score)"
   ]
  },
  {
   "cell_type": "code",
   "execution_count": 26,
   "id": "c4ceb9c4-2d7c-4237-8432-7ca186e433d0",
   "metadata": {},
   "outputs": [
    {
     "data": {
      "image/png": "[encoded data removed]",
      "text/plain": [
       "<Figure size 640x480 with 1 Axes>"
      ]
     },
     "metadata": {},
     "output_type": "display_data"
    }
   ],
   "source": [
    "plt.scatter(y_test,y_pred4)\n",
    "plt.show()"
   ]
  },
  {
   "cell_type": "code",
   "execution_count": 28,
   "id": "fef3645c-c1cc-4899-80e5-c713658db660",
   "metadata": {},
   "outputs": [],
   "source": [
    "#DecisionTreeRegressor\n",
    "from sklearn.tree import DecisionTreeRegressor"
   ]
  },
  {
   "cell_type": "code",
   "execution_count": 39,
   "id": "8244dbf1-f478-41e9-9266-f5f670aa5ff7",
   "metadata": {},
   "outputs": [
    {
     "name": "stdout",
     "output_type": "stream",
     "text": [
      "Mean absolute error:  0.24150260761649545\n",
      "Mean squared error:  0.13622051289456594\n",
      "r2 score:  0.06996610271039638\n"
     ]
    }
   ],
   "source": [
    "tree_model = DecisionTreeRegressor(max_depth=4,random_state=0)\n",
    "tree_model.fit(X_train_scaled,y_train)\n",
    "y_pred5 = tree_model.predict(X_test_scaled)\n",
    "mae = mean_absolute_error(y_test,y_pred5)\n",
    "mse = mean_squared_error(y_test,y_pred5)\n",
    "score = r2_score(y_test,y_pred5)\n",
    "print(\"Mean absolute error: \", mae)\n",
    "print(\"Mean squared error: \", mse)\n",
    "print(\"r2 score: \", score)"
   ]
  },
  {
   "cell_type": "code",
   "execution_count": 40,
   "id": "a3f27efa-0c0f-4c84-ab80-5764eb9fa312",
   "metadata": {},
   "outputs": [
    {
     "data": {
      "image/png": "[encoded data removed]",
      "text/plain": [
       "<Figure size 640x480 with 1 Axes>"
      ]
     },
     "metadata": {},
     "output_type": "display_data"
    }
   ],
   "source": [
    "plt.scatter(y_test,y_pred4)\n",
    "plt.show()"
   ]
  },
  {
   "cell_type": "code",
   "execution_count": 42,
   "id": "ab989a66-6318-4dd5-b68d-395cbb14216f",
   "metadata": {},
   "outputs": [
    {
     "data": {
      "image/png": "[encoded data removed]",
      "text/plain": [
       "<Figure size 640x480 with 1 Axes>"
      ]
     },
     "metadata": {},
     "output_type": "display_data"
    }
   ],
   "source": [
    "from sklearn import tree\n",
    "tree.plot_tree(tree_model.fit(X_train_scaled,y_train),feature_names=df.columns)\n",
    "plt.show()"
   ]
  },
  {
   "cell_type": "code",
   "execution_count": 32,
   "id": "714527e9-4646-434b-afa7-4f3b460d6eaf",
   "metadata": {},
   "outputs": [],
   "source": [
    "from sklearn.ensemble import RandomForestRegressor, GradientBoostingRegressor"
   ]
  },
  {
   "cell_type": "code",
   "execution_count": 33,
   "id": "6c40d4bd-767c-4980-883d-5ade5ca59d11",
   "metadata": {},
   "outputs": [
    {
     "name": "stdout",
     "output_type": "stream",
     "text": [
      "Mean absolute error:  0.2448489405691314\n",
      "Mean squared error:  0.16404316900478003\n",
      "r2 score:  -0.11999070148368807\n"
     ]
    }
   ],
   "source": [
    "randomFR = RandomForestRegressor()\n",
    "randomFR.fit(X_train_scaled,y_train)\n",
    "y_pred6 = randomFR.predict(X_test_scaled)\n",
    "mae = mean_absolute_error(y_test,y_pred6)\n",
    "mse = mean_squared_error(y_test,y_pred6)\n",
    "score = r2_score(y_test,y_pred6)\n",
    "print(\"Mean absolute error: \", mae)\n",
    "print(\"Mean squared error: \", mse)\n",
    "print(\"r2 score: \", score)"
   ]
  },
  {
   "cell_type": "code",
   "execution_count": 34,
   "id": "84c7e6d8-ea96-4f51-b849-800cd3e1b745",
   "metadata": {},
   "outputs": [
    {
     "data": {
      "image/png": "[encoded data removed]",
      "text/plain": [
       "<Figure size 640x480 with 1 Axes>"
      ]
     },
     "metadata": {},
     "output_type": "display_data"
    }
   ],
   "source": [
    "plt.scatter(y_test,y_pred6)\n",
    "plt.show()"
   ]
  },
  {
   "cell_type": "code",
   "execution_count": 44,
   "id": "71d2a54c-7885-4c30-85bd-640d8f6a2146",
   "metadata": {},
   "outputs": [
    {
     "name": "stdout",
     "output_type": "stream",
     "text": [
      "Mean absolute error:  0.23935847615810546\n",
      "Mean squared error:  0.13460978755146605\n",
      "r2 score:  0.08096319218300607\n"
     ]
    }
   ],
   "source": [
    "gradientBR = GradientBoostingRegressor()\n",
    "gradientBR.fit(X_train_scaled,y_train)\n",
    "y_pred7 = gradientBR.predict(X_test_scaled)\n",
    "mae = mean_absolute_error(y_test,y_pred7)\n",
    "mse = mean_squared_error(y_test,y_pred7)\n",
    "score = r2_score(y_test,y_pred7)\n",
    "print(\"Mean absolute error: \", mae)\n",
    "print(\"Mean squared error: \", mse)\n",
    "print(\"r2 score: \", score)"
   ]
  },
  {
   "cell_type": "code",
   "execution_count": 45,
   "id": "95c4128f-ffcc-49de-973d-ac6132e9f6e4",
   "metadata": {},
   "outputs": [
    {
     "data": {
      "image/png": "[encoded data removed]",
      "text/plain": [
       "<Figure size 640x480 with 1 Axes>"
      ]
     },
     "metadata": {},
     "output_type": "display_data"
    }
   ],
   "source": [
    "plt.scatter(y_test,y_pred7)\n",
    "plt.show()"
   ]
  },
  {
   "cell_type": "code",
   "execution_count": null,
   "id": "91d8348c-acb5-4a3a-a0dc-d9849bea4ed0",
   "metadata": {},
   "outputs": [],
   "source": []
  }
 ],
 "metadata": {
  "kernelspec": {
   "display_name": "Python 3 (ipykernel)",
   "language": "python",
   "name": "python3"
  },
  "language_info": {
   "codemirror_mode": {
    "name": "ipython",
    "version": 3
   },
   "file_extension": ".py",
   "mimetype": "text/x-python",
   "name": "python",
   "nbconvert_exporter": "python",
   "pygments_lexer": "ipython3",
   "version": "3.13.5"
  }
 },
 "nbformat": 4,
 "nbformat_minor": 5
}
