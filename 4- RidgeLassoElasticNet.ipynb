{
 "cells": [
  {
   "cell_type": "code",
   "execution_count": null,
   "id": "244eb2c9-82aa-4bf3-bfe7-f7c149c308f6",
   "metadata": {},
   "outputs": [],
   "source": [
    "import pandas as pd\n",
    "import numpy as np\n",
    "import seaborn as sns\n",
    "import matplotlib.pyplot as plt\n",
    "%matplotlib inline"
   ]
  },
  {
   "cell_type": "code",
   "execution_count": null,
   "id": "bfec4e46-05d5-47de-8a07-2d20eacef72c",
   "metadata": {},
   "outputs": [],
   "source": [
    "df = pd.read_csv('Algerian_forest_fires_dataset.csv')"
   ]
  },
  {
   "cell_type": "code",
   "execution_count": null,
   "id": "0629d86b-69a2-486c-aef8-303e0a049ce2",
   "metadata": {},
   "outputs": [],
   "source": [
    "df"
   ]
  },
  {
   "cell_type": "code",
   "execution_count": null,
   "id": "f2521fb2-e9f9-4c54-80e6-cbc93fc079f8",
   "metadata": {},
   "outputs": [],
   "source": [
    "df.head()"
   ]
  },
  {
   "cell_type": "code",
   "execution_count": null,
   "id": "850a26e3-9ae4-4716-8ae4-e694860baf85",
   "metadata": {},
   "outputs": [],
   "source": [
    "df.columns"
   ]
  },
  {
   "cell_type": "code",
   "execution_count": null,
   "id": "c9bc1cf8-7246-4b52-978d-0318c743ba4a",
   "metadata": {},
   "outputs": [],
   "source": [
    "df.info()"
   ]
  },
  {
   "cell_type": "code",
   "execution_count": null,
   "id": "ffa87bd0-8abb-42fe-88f7-cb02f2aad4f7",
   "metadata": {},
   "outputs": [],
   "source": [
    "df.isnull().sum()"
   ]
  },
  {
   "cell_type": "code",
   "execution_count": null,
   "id": "520279ed-1b45-4999-973e-4beb8e0b43d9",
   "metadata": {},
   "outputs": [],
   "source": [
    "df[df.isnull().any(axis=1)]"
   ]
  },
  {
   "cell_type": "code",
   "execution_count": null,
   "id": "1ad8da0f-7680-40c1-bf70-bbf04a14edad",
   "metadata": {},
   "outputs": [],
   "source": [
    "df.drop(122,inplace=True)"
   ]
  },
  {
   "cell_type": "code",
   "execution_count": null,
   "id": "8025b014-13ed-4d5a-90c1-c7fa5bab42b0",
   "metadata": {},
   "outputs": [],
   "source": [
    "df[df.isnull().any(axis=1)]"
   ]
  },
  {
   "cell_type": "code",
   "execution_count": null,
   "id": "a8fc23c3-2149-485d-9400-3304ba7f4324",
   "metadata": {},
   "outputs": [],
   "source": [
    "df.shape"
   ]
  },
  {
   "cell_type": "code",
   "execution_count": null,
   "id": "73163f0e-ece9-4939-b6cc-a639be16ac41",
   "metadata": {},
   "outputs": [],
   "source": [
    "df.loc[:123,\"Region\"] = 0\n",
    "df.loc[123:, \"Region\"] = 1"
   ]
  },
  {
   "cell_type": "code",
   "execution_count": null,
   "id": "7d320e02-b53b-43b0-87a8-31c49aa007b5",
   "metadata": {},
   "outputs": [],
   "source": [
    "df.head()"
   ]
  },
  {
   "cell_type": "code",
   "execution_count": null,
   "id": "a5d76c4b-73a1-401d-ad7e-7d1e42d8b3e6",
   "metadata": {},
   "outputs": [],
   "source": [
    "df.tail()"
   ]
  },
  {
   "cell_type": "code",
   "execution_count": null,
   "id": "46c4bdcd-d933-4c4c-b614-928389f7798f",
   "metadata": {},
   "outputs": [],
   "source": [
    "df = df.dropna().reset_index(drop=True)"
   ]
  },
  {
   "cell_type": "code",
   "execution_count": null,
   "id": "dd17c209-ebbb-46d1-8521-7991e9ded88d",
   "metadata": {},
   "outputs": [],
   "source": [
    "df.isnull().sum()"
   ]
  },
  {
   "cell_type": "code",
   "execution_count": null,
   "id": "49c3a33d-7810-4e96-a7e1-dd33111d9179",
   "metadata": {},
   "outputs": [],
   "source": [
    "df.shape"
   ]
  },
  {
   "cell_type": "code",
   "execution_count": null,
   "id": "5569aa19-4643-44ca-aa4f-e836ba6c06f2",
   "metadata": {},
   "outputs": [],
   "source": [
    "df.info()"
   ]
  },
  {
   "cell_type": "code",
   "execution_count": null,
   "id": "5719ea58-e7df-4e3f-8785-9a16e8efb324",
   "metadata": {},
   "outputs": [],
   "source": [
    "# kolonlardaki gereksiz boşluk temizliği\n",
    "df.columns = df.columns.str.strip()"
   ]
  },
  {
   "cell_type": "code",
   "execution_count": null,
   "id": "bbcb3df9-f839-4a04-a0c7-e57694e44036",
   "metadata": {},
   "outputs": [],
   "source": [
    "df.info()"
   ]
  },
  {
   "cell_type": "code",
   "execution_count": null,
   "id": "a3928d55-e8ca-4235-81c9-1af69f12c165",
   "metadata": {},
   "outputs": [],
   "source": [
    "df.head()"
   ]
  },
  {
   "cell_type": "code",
   "execution_count": null,
   "id": "fdb6783d-9766-48fc-abed-ee711b44159b",
   "metadata": {},
   "outputs": [],
   "source": [
    "# type int casting\n",
    "# df[[\"day\",\"month\",\"year\",\"Temperature\",\"RH\",\"Ws\"]] = df[[\"day\",\"month\",\"year\",\"Temperature\",\"RH\",\"Ws\"]].astype(int)"
   ]
  },
  {
   "cell_type": "code",
   "execution_count": null,
   "id": "b4ceb5bc-c61b-4b7a-9f6b-cf0c547e8a44",
   "metadata": {},
   "outputs": [],
   "source": [
    "df['day'].unique()"
   ]
  },
  {
   "cell_type": "code",
   "execution_count": null,
   "id": "d58f2b0f-5531-408e-8874-0c489e57bb31",
   "metadata": {},
   "outputs": [],
   "source": [
    "df[df['day'] == 'day' ]"
   ]
  },
  {
   "cell_type": "code",
   "execution_count": null,
   "id": "cd84ab53-a8c5-4df5-84ff-6d547e5daa2c",
   "metadata": {},
   "outputs": [],
   "source": [
    "df.drop(122,inplace=True)"
   ]
  },
  {
   "cell_type": "code",
   "execution_count": null,
   "id": "3e6404f3-d210-4cb3-8793-ce1b0606b031",
   "metadata": {},
   "outputs": [],
   "source": [
    "#df[df['day'] == 'day' ]"
   ]
  },
  {
   "cell_type": "code",
   "execution_count": null,
   "id": "07d5dedd-a408-4362-a1ff-0260b99b06df",
   "metadata": {},
   "outputs": [],
   "source": [
    "df[[\"day\",\"month\",\"year\",\"Temperature\",\"RH\",\"Ws\"]] = df[[\"day\",\"month\",\"year\",\"Temperature\",\"RH\",\"Ws\"]].astype(int)"
   ]
  },
  {
   "cell_type": "code",
   "execution_count": null,
   "id": "ee945540-02da-449d-9724-4d964c39bea2",
   "metadata": {},
   "outputs": [],
   "source": [
    "df.info()"
   ]
  },
  {
   "cell_type": "code",
   "execution_count": null,
   "id": "fac4bf7d-22b6-4642-93b3-e494444ff5b4",
   "metadata": {},
   "outputs": [],
   "source": [
    "df[[\"Rain\",\"FFMC\",\"DMC\",\"DC\",\"ISI\",\"BUI\",\"FWI\"]] =df[[\"Rain\",\"FFMC\",\"DMC\",\"DC\",\"ISI\",\"BUI\",\"FWI\"]].astype(float) "
   ]
  },
  {
   "cell_type": "code",
   "execution_count": null,
   "id": "c93760c0-0622-43f5-ad9b-96958b6c705b",
   "metadata": {},
   "outputs": [],
   "source": [
    "df.info()"
   ]
  },
  {
   "cell_type": "code",
   "execution_count": null,
   "id": "0e6ce11b-91bc-49f1-b616-ef1d338c0a97",
   "metadata": {},
   "outputs": [],
   "source": [
    "df.describe()"
   ]
  },
  {
   "cell_type": "code",
   "execution_count": null,
   "id": "dfd5acc7-32bd-426e-8fd8-2aab1f3e5494",
   "metadata": {},
   "outputs": [],
   "source": [
    "df['Classes'].value_counts()"
   ]
  },
  {
   "cell_type": "code",
   "execution_count": null,
   "id": "15b15bb8-2c35-42ac-b270-a3d8852fea57",
   "metadata": {},
   "outputs": [],
   "source": [
    "df['Classes'] = np.where(df['Classes'].str.contains('not fire'),0,1)"
   ]
  },
  {
   "cell_type": "code",
   "execution_count": null,
   "id": "127101cb-3eeb-48dc-b7db-37abce77b800",
   "metadata": {},
   "outputs": [],
   "source": [
    "df['Classes'].value_counts()"
   ]
  },
  {
   "cell_type": "code",
   "execution_count": null,
   "id": "058de580-3ad0-456c-8df9-22fa03957724",
   "metadata": {},
   "outputs": [],
   "source": [
    "df.head()"
   ]
  },
  {
   "cell_type": "code",
   "execution_count": null,
   "id": "e4eb88e0-0fb9-49b4-8608-459342f14f06",
   "metadata": {},
   "outputs": [],
   "source": [
    "df.tail()"
   ]
  },
  {
   "cell_type": "code",
   "execution_count": null,
   "id": "f5a7ae2c-33aa-4cd4-9fa8-0ed05da1e5be",
   "metadata": {},
   "outputs": [],
   "source": [
    "df.corr()"
   ]
  },
  {
   "cell_type": "code",
   "execution_count": null,
   "id": "bb9e246a-f699-476e-8747-10f6c85eec18",
   "metadata": {},
   "outputs": [],
   "source": [
    "sns.heatmap(df.corr())\n",
    "plt.show()"
   ]
  },
  {
   "cell_type": "code",
   "execution_count": null,
   "id": "fedd33e3-4096-49b4-a8a6-b479893f26ff",
   "metadata": {},
   "outputs": [],
   "source": [
    "# get rid of day month year"
   ]
  },
  {
   "cell_type": "code",
   "execution_count": null,
   "id": "d9403e32-e382-4b06-a595-51e30c4e02de",
   "metadata": {},
   "outputs": [],
   "source": [
    "df.drop(['day','month','year'],axis=1,inplace=True)"
   ]
  },
  {
   "cell_type": "code",
   "execution_count": null,
   "id": "f5e25004-6de4-40cb-ae23-c1d235536e54",
   "metadata": {},
   "outputs": [],
   "source": [
    "df.head()"
   ]
  },
  {
   "cell_type": "code",
   "execution_count": null,
   "id": "cf9cce17-e70e-4b01-a54a-eb9a031c6427",
   "metadata": {},
   "outputs": [],
   "source": [
    "# dependent & independent features"
   ]
  },
  {
   "cell_type": "code",
   "execution_count": null,
   "id": "b3718f2d-74a0-4ad6-88f4-62b1c4bcf7fe",
   "metadata": {},
   "outputs": [],
   "source": [
    "X = df.drop(\"FWI\", axis=1)\n",
    "y = df[\"FWI\"]"
   ]
  },
  {
   "cell_type": "code",
   "execution_count": null,
   "id": "00cf8936-2a44-4df6-963a-9fbf0d78c643",
   "metadata": {},
   "outputs": [],
   "source": [
    "X.head()"
   ]
  },
  {
   "cell_type": "code",
   "execution_count": null,
   "id": "60c1552c-4d10-4b0e-9f82-6a930815b921",
   "metadata": {},
   "outputs": [],
   "source": [
    "y"
   ]
  },
  {
   "cell_type": "code",
   "execution_count": null,
   "id": "edd6f14e-79df-4642-b747-21bfc2de7e42",
   "metadata": {},
   "outputs": [],
   "source": [
    "from sklearn.model_selection import train_test_split"
   ]
  },
  {
   "cell_type": "code",
   "execution_count": null,
   "id": "6efe6089-6080-4a81-82c0-90b9c1aaac05",
   "metadata": {},
   "outputs": [],
   "source": [
    "X_train, X_test, y_train, y_test = train_test_split(X,y,test_size=0.25,random_state=15)"
   ]
  },
  {
   "cell_type": "code",
   "execution_count": null,
   "id": "5918431b-5a82-458c-8989-ebe16f6f96f5",
   "metadata": {},
   "outputs": [],
   "source": [
    "X_train.shape"
   ]
  },
  {
   "cell_type": "code",
   "execution_count": null,
   "id": "6fb958b7-6f62-4691-822f-01cc17b8c434",
   "metadata": {},
   "outputs": [],
   "source": [
    "X_train.corr()"
   ]
  },
  {
   "cell_type": "code",
   "execution_count": null,
   "id": "9c2279e1-58b6-421f-92bb-6a5719ac9322",
   "metadata": {},
   "outputs": [],
   "source": [
    "# redundancy, multicolliearity, overfitting"
   ]
  },
  {
   "cell_type": "code",
   "execution_count": null,
   "id": "2f995321-fee1-40f5-96c2-a98a21201909",
   "metadata": {},
   "outputs": [],
   "source": [
    "X_train.corr().iloc[0,2]"
   ]
  },
  {
   "cell_type": "code",
   "execution_count": null,
   "id": "1b0403fc-120b-43b8-baf7-b6c92f4ae1fc",
   "metadata": {},
   "outputs": [],
   "source": [
    "def CorrelationForDropping(df,threshold):\n",
    "    columnsToDrop = set()\n",
    "    corr = df.corr()\n",
    "    for i in range(len(corr.columns)):\n",
    "        for j in range (i):\n",
    "            if abs(corr.iloc[i,j]) > threshold:\n",
    "                columnsToDrop.add(corr.columns[i])\n",
    "    return columnsToDrop"
   ]
  },
  {
   "cell_type": "code",
   "execution_count": null,
   "id": "2b0d1890-15de-493c-998b-360e712c3ee9",
   "metadata": {},
   "outputs": [],
   "source": [
    "columnsDropping = CorrelationForDropping(X_train,0.85)"
   ]
  },
  {
   "cell_type": "code",
   "execution_count": null,
   "id": "013d743f-05ab-445d-be27-ffb9f1bd1406",
   "metadata": {},
   "outputs": [],
   "source": []
  }
 ],
 "metadata": {
  "kernelspec": {
   "display_name": "Python 3 (ipykernel)",
   "language": "python",
   "name": "python3"
  },
  "language_info": {
   "codemirror_mode": {
    "name": "ipython",
    "version": 3
   },
   "file_extension": ".py",
   "mimetype": "text/x-python",
   "name": "python",
   "nbconvert_exporter": "python",
   "pygments_lexer": "ipython3",
   "version": "3.13.5"
  }
 },
 "nbformat": 4,
 "nbformat_minor": 5
}
