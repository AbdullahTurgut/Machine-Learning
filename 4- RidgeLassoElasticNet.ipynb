{
 "cells": [
  {
   "cell_type": "code",
   "execution_count": null,
   "id": "244eb2c9-82aa-4bf3-bfe7-f7c149c308f6",
   "metadata": {},
   "outputs": [],
   "source": []
  }
 ],
 "metadata": {
  "kernelspec": {
   "display_name": "",
   "name": ""
  },
  "language_info": {
   "name": ""
  }
 },
 "nbformat": 4,
 "nbformat_minor": 5
}
